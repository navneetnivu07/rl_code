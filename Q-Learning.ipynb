{
 "cells": [
  {
   "cell_type": "code",
   "execution_count": 12,
   "id": "c39feaf1-77f5-4fb9-a5ed-bd7c835e2f48",
   "metadata": {},
   "outputs": [
    {
     "name": "stdout",
     "output_type": "stream",
     "text": [
      "[0.6  0.07]\n",
      "[-1.2  -0.07]\n",
      "3\n",
      "[20, 20]\n",
      "[0.09  0.007]\n"
     ]
    },
    {
     "data": {
      "text/plain": [
       "array([[-1.21050288, -1.17664317, -0.34755248],\n",
       "       [-1.04298942, -0.27062266, -1.8062595 ],\n",
       "       [-1.17965832, -0.21736895, -1.68526405],\n",
       "       [-1.28450034, -1.25448712, -1.57007304],\n",
       "       [-1.41377132, -1.59991328, -1.83674944],\n",
       "       [-1.29082675, -1.88563955, -0.5626191 ],\n",
       "       [-0.26032644, -1.88090124, -0.43795757],\n",
       "       [-1.14122825, -1.26038601, -0.05940783],\n",
       "       [-1.72929376, -1.5867946 , -1.00952491],\n",
       "       [-0.9201088 , -1.05870869, -1.31990073],\n",
       "       [-1.6143075 , -0.65322663, -1.91372723],\n",
       "       [-0.93986088, -0.48467217, -0.77389373],\n",
       "       [-1.17425238, -0.23420724, -0.91469444],\n",
       "       [-1.5104117 , -0.61608376, -0.85982862],\n",
       "       [-1.20740944, -0.53591671, -0.86195926],\n",
       "       [-0.35220231, -1.89727328, -1.80730738],\n",
       "       [-1.18490808, -0.8279218 , -1.58123961],\n",
       "       [-1.35726785, -1.91150362, -1.47680017],\n",
       "       [-0.5474719 , -1.61398229, -1.97894268],\n",
       "       [-0.87847306, -1.28661341, -0.89762927]])"
      ]
     },
     "execution_count": 12,
     "metadata": {},
     "output_type": "execute_result"
    }
   ],
   "source": [
    "import gym\n",
    "import numpy as np\n",
    "\n",
    "env = gym.make(\"MountainCar-v0\")\n",
    "state = env.reset()\n",
    "\n",
    "print(env.observation_space.high)\n",
    "print(env.observation_space.low)\n",
    "print(env.action_space.n)\n",
    "\n",
    "DISCRETE_OS_SIZE = [20, 20]\n",
    "discrete_os_win_size = (env.observation_space.high - env.observation_space.low)/DISCRETE_OS_SIZE\n",
    "\n",
    "\n",
    "print(DISCRETE_OS_SIZE)\n",
    "print(discrete_os_win_size)\n",
    "\n",
    "q_table = np.random.uniform(low=-2, high=0, size=(DISCRETE_OS_SIZE + [env.action_space.n]))\n",
    "q_table[0]"
   ]
  },
  {
   "cell_type": "code",
   "execution_count": null,
   "id": "4b6f8131-d71c-4dc7-b478-03083a285c90",
   "metadata": {},
   "outputs": [],
   "source": [
    "done = False\n",
    "while not done:\n",
    "    action = 2\n",
    "    new_state, reward, done, _ = env.step(action)\n",
    "    print(reward, new_state)"
   ]
  },
  {
   "cell_type": "markdown",
   "id": "7bd39905-52c5-4a4d-ac00-0b6d9f5f013f",
   "metadata": {},
   "source": [
    "![](new-q-value-formula.png)"
   ]
  },
  {
   "cell_type": "code",
   "execution_count": null,
   "id": "7d292f5e-f324-4e98-b819-1cd7c68ba835",
   "metadata": {},
   "outputs": [],
   "source": []
  },
  {
   "cell_type": "code",
   "execution_count": null,
   "id": "e1d9e511-2d8e-40a3-bcb3-cf87ef9d1464",
   "metadata": {},
   "outputs": [],
   "source": []
  }
 ],
 "metadata": {
  "kernelspec": {
   "display_name": "Python 3 (ipykernel)",
   "language": "python",
   "name": "python3"
  },
  "language_info": {
   "codemirror_mode": {
    "name": "ipython",
    "version": 3
   },
   "file_extension": ".py",
   "mimetype": "text/x-python",
   "name": "python",
   "nbconvert_exporter": "python",
   "pygments_lexer": "ipython3",
   "version": "3.9.7"
  }
 },
 "nbformat": 4,
 "nbformat_minor": 5
}
